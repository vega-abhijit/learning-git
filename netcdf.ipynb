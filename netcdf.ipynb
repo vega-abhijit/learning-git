{
 "cells": [
  {
   "cell_type": "code",
   "execution_count": 1,
   "id": "2f0dc82b",
   "metadata": {
    "_cell_guid": "b1076dfc-b9ad-4769-8c92-a6c4dae69d19",
    "_uuid": "8f2839f25d086af736a60e9eeb907d3b93b6e0e5",
    "execution": {
     "iopub.execute_input": "2023-08-04T18:16:50.243851Z",
     "iopub.status.busy": "2023-08-04T18:16:50.243450Z",
     "iopub.status.idle": "2023-08-04T18:16:50.372767Z",
     "shell.execute_reply": "2023-08-04T18:16:50.371354Z"
    },
    "papermill": {
     "duration": 0.137346,
     "end_time": "2023-08-04T18:16:50.375159",
     "exception": false,
     "start_time": "2023-08-04T18:16:50.237813",
     "status": "completed"
    },
    "tags": []
   },
   "outputs": [
    {
     "name": "stdout",
     "output_type": "stream",
     "text": [
      "/kaggle/input/regcm-output/BD_SRF.2005100100.nc\n"
     ]
    }
   ],
   "source": [
    "# This Python 3 environment comes with many helpful analytics libraries installed\n",
    "# It is defined by the kaggle/python Docker image: https://github.com/kaggle/docker-python\n",
    "# For example, here's several helpful packages to load\n",
    "\n",
    "import numpy as np # linear algebra\n",
    "import pandas as pd # data processing, CSV file I/O (e.g. pd.read_csv)\n",
    "import netCDF4 as nc\n",
    "\n",
    "# Input data files are available in the read-only \"../input/\" directory\n",
    "# For example, running this (by clicking run or pressing Shift+Enter) will list all files under the input directory\n",
    "\n",
    "import os\n",
    "for dirname, _, filenames in os.walk('/kaggle/input'):\n",
    "    for filename in filenames:\n",
    "        print(os.path.join(dirname, filename))\n",
    "\n",
    "# You can write up to 20GB to the current directory (/kaggle/working/) that gets preserved as output when you create a version using \"Save & Run All\" \n",
    "# You can also write temporary files to /kaggle/temp/, but they won't be saved outside of the current session"
   ]
  },
  {
   "cell_type": "code",
   "execution_count": 2,
   "id": "6a274ab8",
   "metadata": {
    "execution": {
     "iopub.execute_input": "2023-08-04T18:16:50.383927Z",
     "iopub.status.busy": "2023-08-04T18:16:50.383527Z",
     "iopub.status.idle": "2023-08-04T18:16:50.388746Z",
     "shell.execute_reply": "2023-08-04T18:16:50.387560Z"
    },
    "papermill": {
     "duration": 0.012674,
     "end_time": "2023-08-04T18:16:50.391528",
     "exception": false,
     "start_time": "2023-08-04T18:16:50.378854",
     "status": "completed"
    },
    "tags": []
   },
   "outputs": [
    {
     "name": "stdout",
     "output_type": "stream",
     "text": [
      "posix\n"
     ]
    }
   ],
   "source": [
    "print(os.name)"
   ]
  },
  {
   "cell_type": "code",
   "execution_count": 3,
   "id": "92787344",
   "metadata": {
    "execution": {
     "iopub.execute_input": "2023-08-04T18:16:50.400738Z",
     "iopub.status.busy": "2023-08-04T18:16:50.399722Z",
     "iopub.status.idle": "2023-08-04T18:16:50.483276Z",
     "shell.execute_reply": "2023-08-04T18:16:50.482316Z"
    },
    "papermill": {
     "duration": 0.091038,
     "end_time": "2023-08-04T18:16:50.486033",
     "exception": false,
     "start_time": "2023-08-04T18:16:50.394995",
     "status": "completed"
    },
    "tags": []
   },
   "outputs": [],
   "source": [
    "rdata = nc.Dataset('/kaggle/input/regcm-output/BD_SRF.2005100100.nc', 'r', format='NETCDF4')\n",
    "wdata = nc.Dataset('/kaggle/working/out1.nc', 'a', format='NETCDF4')\n",
    "# g1=wdata1.createGroup(\"/analyses/g1\")\n",
    "# g2=wdata1.createGroup(\"/analyses/g2\")\n",
    "# print(wdata1.groups)\n",
    "# wdata1.close()\n",
    "# rdata.close()"
   ]
  },
  {
   "cell_type": "code",
   "execution_count": 4,
   "id": "a1b59303",
   "metadata": {
    "execution": {
     "iopub.execute_input": "2023-08-04T18:16:50.495400Z",
     "iopub.status.busy": "2023-08-04T18:16:50.494557Z",
     "iopub.status.idle": "2023-08-04T18:16:50.503298Z",
     "shell.execute_reply": "2023-08-04T18:16:50.502325Z"
    },
    "papermill": {
     "duration": 0.015995,
     "end_time": "2023-08-04T18:16:50.505690",
     "exception": false,
     "start_time": "2023-08-04T18:16:50.489695",
     "status": "completed"
    },
    "tags": []
   },
   "outputs": [],
   "source": [
    "# creating dimensions for nc file\n",
    "level = wdata.createDimension(\"level\", None)\n",
    "time = wdata.createDimension('time', None)\n",
    "jx = wdata.createDimension('jx', 57)\n",
    "lon = wdata.createDimension('iy', 57)\n",
    "ts = wdata.createVariable('ts', 'f8', ('time', 'iy', 'jx'))\n",
    "time = wdata.createVariable('time', 'S19', ('time'))"
   ]
  },
  {
   "cell_type": "code",
   "execution_count": 5,
   "id": "bdbe098c",
   "metadata": {
    "execution": {
     "iopub.execute_input": "2023-08-04T18:16:50.514989Z",
     "iopub.status.busy": "2023-08-04T18:16:50.514033Z",
     "iopub.status.idle": "2023-08-04T18:16:50.523136Z",
     "shell.execute_reply": "2023-08-04T18:16:50.521676Z"
    },
    "papermill": {
     "duration": 0.016073,
     "end_time": "2023-08-04T18:16:50.525238",
     "exception": false,
     "start_time": "2023-08-04T18:16:50.509165",
     "status": "completed"
    },
    "tags": []
   },
   "outputs": [
    {
     "name": "stdout",
     "output_type": "stream",
     "text": [
      "True\n"
     ]
    }
   ],
   "source": [
    "tsr = rdata.variables['ts']\n",
    "# wdata.dimensions\n",
    "\n",
    "ts.standard_name='surface_temperature'\n",
    "ts.long_name='Surface Temperature'\n",
    "ts.units = 'K'\n",
    "ts.grid_mapping = 'crs'\n",
    "ts.coordinates = 'xlat xlon'\n",
    "ts.cell_methods = tsr.cell_methods\n",
    "wdata.variables\n",
    "\n",
    "print(ts.coordinates==tsr.coordinates)\n",
    "\n",
    "# ts = rdata.variables['ts']\n",
    "# ts.units = 'Deg C'"
   ]
  },
  {
   "cell_type": "code",
   "execution_count": 6,
   "id": "0ea44cd4",
   "metadata": {
    "execution": {
     "iopub.execute_input": "2023-08-04T18:16:50.534166Z",
     "iopub.status.busy": "2023-08-04T18:16:50.533512Z",
     "iopub.status.idle": "2023-08-04T18:16:50.640322Z",
     "shell.execute_reply": "2023-08-04T18:16:50.639125Z"
    },
    "papermill": {
     "duration": 0.11414,
     "end_time": "2023-08-04T18:16:50.642810",
     "exception": false,
     "start_time": "2023-08-04T18:16:50.528670",
     "status": "completed"
    },
    "tags": []
   },
   "outputs": [
    {
     "name": "stdout",
     "output_type": "stream",
     "text": [
      "{'long_name': 'Surface Temperature', 'standard_name': 'surface_temperature', 'units': 'K', 'coordinates': 'xlat xlon', 'grid_mapping': 'crs', 'cell_methods': 'time: point'}\n"
     ]
    },
    {
     "data": {
      "text/plain": [
       "{'level': <class 'netCDF4._netCDF4.Dimension'> (unlimited): name = 'level', size = 0,\n",
       " 'time': <class 'netCDF4._netCDF4.Dimension'> (unlimited): name = 'time', size = 30,\n",
       " 'jx': <class 'netCDF4._netCDF4.Dimension'>: name = 'jx', size = 57,\n",
       " 'iy': <class 'netCDF4._netCDF4.Dimension'>: name = 'iy', size = 57}"
      ]
     },
     "execution_count": 6,
     "metadata": {},
     "output_type": "execute_result"
    }
   ],
   "source": [
    "### Copying attributes of a Dataset, Group or Variable\n",
    "tsr = rdata.variables['ts']\n",
    "wdata.setncatts(rdata.__dict__)\n",
    "print(tsr.__dict__)\n",
    "ts.setncatts(tsr.__dict__)\n",
    "ts[:]=tsr[:]\n",
    "wdata.dimensions\n"
   ]
  },
  {
   "cell_type": "code",
   "execution_count": 7,
   "id": "eef91a73",
   "metadata": {
    "execution": {
     "iopub.execute_input": "2023-08-04T18:16:50.652971Z",
     "iopub.status.busy": "2023-08-04T18:16:50.652504Z",
     "iopub.status.idle": "2023-08-04T18:16:50.707836Z",
     "shell.execute_reply": "2023-08-04T18:16:50.706356Z"
    },
    "papermill": {
     "duration": 0.06365,
     "end_time": "2023-08-04T18:16:50.710260",
     "exception": false,
     "start_time": "2023-08-04T18:16:50.646610",
     "status": "completed"
    },
    "tags": []
   },
   "outputs": [
    {
     "name": "stdout",
     "output_type": "stream",
     "text": [
      "2005-10-03T00:00:00\n",
      "2005-10-02 00:00:00\n",
      "2005-10-03 00:00:00\n",
      "2005-10-04 00:00:00\n",
      "2005-10-05 00:00:00\n",
      "2005-10-06 00:00:00\n",
      "2005-10-07 00:00:00\n",
      "2005-10-08 00:00:00\n",
      "2005-10-09 00:00:00\n",
      "2005-10-10 00:00:00\n",
      "2005-10-11 00:00:00\n",
      "2005-10-12 00:00:00\n",
      "2005-10-13 00:00:00\n",
      "2005-10-14 00:00:00\n",
      "2005-10-15 00:00:00\n",
      "2005-10-16 00:00:00\n",
      "2005-10-17 00:00:00\n",
      "2005-10-18 00:00:00\n",
      "2005-10-19 00:00:00\n",
      "2005-10-20 00:00:00\n",
      "2005-10-21 00:00:00\n",
      "2005-10-22 00:00:00\n",
      "2005-10-23 00:00:00\n",
      "2005-10-24 00:00:00\n",
      "2005-10-25 00:00:00\n",
      "2005-10-26 00:00:00\n",
      "2005-10-27 00:00:00\n",
      "2005-10-28 00:00:00\n",
      "2005-10-29 00:00:00\n",
      "2005-10-30 00:00:00\n",
      "2005-11-01 00:00:00\n"
     ]
    }
   ],
   "source": [
    "import cftime as ct\n",
    "rt = rdata.variables['time']\n",
    "dates = ct.num2date(rt[:], units=rt.units, calendar=rt.calendar)\n",
    "print(dates[1].isoformat(sep='T', timespec='auto'))\n",
    "\n",
    "for val in dates:\n",
    "#     time[i] = dates[i].isoformat(sep='T', timespec='auto')\n",
    "    print(val)"
   ]
  },
  {
   "cell_type": "code",
   "execution_count": 8,
   "id": "4c9296e5",
   "metadata": {
    "execution": {
     "iopub.execute_input": "2023-08-04T18:16:50.720747Z",
     "iopub.status.busy": "2023-08-04T18:16:50.719754Z",
     "iopub.status.idle": "2023-08-04T18:16:50.731808Z",
     "shell.execute_reply": "2023-08-04T18:16:50.730747Z"
    },
    "papermill": {
     "duration": 0.020457,
     "end_time": "2023-08-04T18:16:50.734677",
     "exception": false,
     "start_time": "2023-08-04T18:16:50.714220",
     "status": "completed"
    },
    "tags": []
   },
   "outputs": [
    {
     "name": "stdout",
     "output_type": "stream",
     "text": [
      "<class 'netCDF4._netCDF4.Variable'>\n",
      "float64 time(time)\n",
      "    long_name: time\n",
      "    standard_name: time\n",
      "    units: hours since 1949-12-01 00:00:00 UTC\n",
      "    calendar: 360_day\n",
      "    bounds: time_bnds\n",
      "unlimited dimensions: time\n",
      "current shape = (30,)\n",
      "filling on, default _FillValue of 9.969209968386869e+36 used\n",
      "\n",
      "<class 'netCDF4._netCDF4.Variable'>\n",
      "vlen time(time)\n",
      "    long_name: time\n",
      "    standard_name: time\n",
      "    calendar: 360_day\n",
      "vlen data type: <class 'str'>\n",
      "unlimited dimensions: time\n",
      "current shape = (30,)\n"
     ]
    }
   ],
   "source": [
    "time.long_name = rt.long_name\n",
    "time.standard_name = rt.standard_name\n",
    "time.calendar = rt.calendar\n",
    "print(rt, time, sep='\\n\\n')"
   ]
  },
  {
   "cell_type": "code",
   "execution_count": 9,
   "id": "5cc1fc50",
   "metadata": {
    "execution": {
     "iopub.execute_input": "2023-08-04T18:16:50.744968Z",
     "iopub.status.busy": "2023-08-04T18:16:50.744562Z",
     "iopub.status.idle": "2023-08-04T18:16:51.000768Z",
     "shell.execute_reply": "2023-08-04T18:16:50.999610Z"
    },
    "papermill": {
     "duration": 0.263939,
     "end_time": "2023-08-04T18:16:51.003189",
     "exception": false,
     "start_time": "2023-08-04T18:16:50.739250",
     "status": "completed"
    },
    "tags": []
   },
   "outputs": [
    {
     "name": "stdout",
     "output_type": "stream",
     "text": [
      "<class 'tuple'>\n"
     ]
    },
    {
     "data": {
      "image/png": "[encoded data removed]",
      "text/plain": [
       "<Figure size 640x480 with 1 Axes>"
      ]
     },
     "metadata": {},
     "output_type": "display_data"
    }
   ],
   "source": [
    "##### This section focuses on visulization of nc datasets.\n",
    "### For map making libraries used here are matplotlib, cartopy and geocat.\n",
    "import matplotlib.pyplot as plt\n",
    "\n",
    "x = np.linspace(0, 2*np.pi, 200)\n",
    "y = np.sin(x)\n",
    "\n",
    "fig = plt.subplots()\n",
    "\n",
    "print(type(fig))\n",
    "# print(type(ax))\n",
    "\n",
    "# ax.plot(x, y)\n",
    "\n",
    "# plt.show()"
   ]
  },
  {
   "cell_type": "code",
   "execution_count": 10,
   "id": "7374dba7",
   "metadata": {
    "execution": {
     "iopub.execute_input": "2023-08-04T18:16:51.013809Z",
     "iopub.status.busy": "2023-08-04T18:16:51.013042Z",
     "iopub.status.idle": "2023-08-04T18:16:51.021009Z",
     "shell.execute_reply": "2023-08-04T18:16:51.020090Z"
    },
    "papermill": {
     "duration": 0.016267,
     "end_time": "2023-08-04T18:16:51.023599",
     "exception": false,
     "start_time": "2023-08-04T18:16:51.007332",
     "status": "completed"
    },
    "tags": []
   },
   "outputs": [],
   "source": [
    "wdata.close()\n",
    "rdata.close()"
   ]
  }
 ],
 "metadata": {
  "kernelspec": {
   "display_name": "Python 3",
   "language": "python",
   "name": "python3"
  },
  "language_info": {
   "codemirror_mode": {
    "name": "ipython",
    "version": 3
   },
   "file_extension": ".py",
   "mimetype": "text/x-python",
   "name": "python",
   "nbconvert_exporter": "python",
   "pygments_lexer": "ipython3",
   "version": "3.10.12"
  },
  "papermill": {
   "default_parameters": {},
   "duration": 11.366274,
   "end_time": "2023-08-04T18:16:51.851165",
   "environment_variables": {},
   "exception": null,
   "input_path": "__notebook__.ipynb",
   "output_path": "__notebook__.ipynb",
   "parameters": {},
   "start_time": "2023-08-04T18:16:40.484891",
   "version": "2.4.0"
  }
 },
 "nbformat": 4,
 "nbformat_minor": 5
}
